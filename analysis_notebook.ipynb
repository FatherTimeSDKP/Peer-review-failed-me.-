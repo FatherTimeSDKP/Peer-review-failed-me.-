# DCP_runs/VFE1_validation_GW150914/analysis_notebook.ipynb - Updated Core
import numpy as np
import json
import os
from scipy.signal import get_window, correlate
# Note: For real Mismatch calculation, you would need a frequency-domain overlap 
# function (like from pycbc or LALSuite) and a realistic PSD model. 
# We use a simple noise-weighted correlation here for the OVP-A manifest.

# --- Physical Constants (SI) ---
G = 6.67430e-11        # m^3 kg^-1 s^-2
c = 299792458.0        # m / s
M_sun = 1.98847e30     # kg
parsec = 3.085677581491367e16  # meters

# --- 2. VFE1 INTEGRATION CORE (QCC Implementation) ---
# NOTE: This function is the robust, parameterized solver. 
# Replace the internals marked with 'VFE₁ CORE ALGEBRA' with your canonical equations.

def vfe1_solver(M_total_solar,
                q_ratio,
                chi_eff,
                time_array,
                frequency_array,
                distance_m=None,
                params=None):
    """
    Numerically stable, modular VFE1 solver that maps SDVR inputs to a predicted strain time-series.
    """

    # === Defaults & safety ===
    if params is None:
        params = {}
    # Tunable VFE1 coupling coefficients (for sensitivity analysis / tuning)
    A0 = float(params.get('A0', 1.0))
    alpha_spin = float(params.get('alpha_spin', 0.9))
    beta_eta = float(params.get('beta_eta', 1.2))
    gamma_phase = float(params.get('gamma_phase_sdvr', 1e-6)) # VFE1/CWT phase coupling
    damping_tau = params.get('damping_tau', 0.15)
    eps = 1e-30

    if distance_m is None:
        distance_m = 410.0e6 * parsec # GW150914 rough median

    # === SDVR Mapping: S, D, R variables ===
    M_total = float(M_total_solar) * M_sun              # Size (S) proxy in kg
    q = float(q_ratio)
    if q <= 0: raise ValueError("q_ratio must be positive.")
    m1 = M_total * q / (1.0 + q)
    m2 = M_total / (1.0 + q)
    eta = (m1 * m2) / (M_total * M_total + eps)         # Density (D) proxy: Symmetric Mass Ratio
    rotation_proxy = chi_eff                            # Rotation (R) proxy: Effective Spin

    # === Dimensionless orbital velocity (V) ===
    # v(t) = [pi * G * M * f(t) / c^3]^(1/3)
    freq = np.maximum(np.asarray(frequency_array, dtype=float), 0.0)
    with np.errstate(all='ignore'):
        v_dimless = (np.pi * G * M_total * freq / (c**3) + eps) ** (1.0 / 3.0)

    # === VFE₁ CORE ALGEBRA: Amplitude Model ===
    base_length = (G * M_total) / (c**2)
    amp_env = (v_dimless**2 + eps) # Inspiral quadrupole scaling basis

    # [VFE₁ CORE ALGEBRA: Replace this line with your final amplitude symbolic expression]
    # The current form is a VFE₁-parameterized PN-like amplitude ansatz:
    amp_scalar = A0 * (base_length / distance_m) * amp_env * (1.0 + alpha_spin * rotation_proxy + beta_eta * eta)
    
    amp_scalar = np.nan_to_num(amp_scalar, nan=0.0, posinf=0.0, neginf=0.0)

    # === VFE₁ CORE ALGEBRA: Phase Model (Chronon Wake Time (CWT) Coupling) ===
    t = np.asarray(time_array, dtype=float)
    dt_arr = np.gradient(t)
    omega = 2.0 * np.pi * freq
    
    # Baseline PN Phase Integral
    phi_pn_base = np.cumsum(omega * dt_arr)

    # [VFE₁ CORE ALGEBRA: Replace this term with your final phase symbolic expression]
    # This uses the CWT/SDVR intuition: Phase correction depends on (Size * Rotation / Density)
    
    # Coupling factor (normalized) applied near merger (high v)
    v_norm = np.clip(v_dimless / (np.max(v_dimless) + eps), 0.0, 1.0)
    coupling_time_factor = 0.5 * (1.0 + np.tanh(6.0 * (v_norm - 0.5))) 

    # CWT/SDVR Phase Term (Size * Rotation / Density Proxy)
    size_proxy_solar = M_total_solar
    density_proxy_inv = 1.0 / max(float(eta), eps)
    
    phi_sdvr_term = gamma_phase * (size_proxy_solar * rotation_proxy * density_proxy_inv) * coupling_time_factor
    
    phi_total = phi_pn_base + phi_sdvr_term

    # === Strain waveform construction ===
    carrier = np.cos(phi_total)
    strain = amp_scalar * carrier

    # Optional damping envelope for clean boundaries (LLAL reproducibility)
    if damping_tau is not None and damping_tau > 0:
        imax = int(np.argmax(v_dimless))
        t0 = t[imax]
        window = np.exp(-((t - t0)**2) / (2.0 * (damping_tau**2 + eps)))
        strain *= window

    # === Diagnostics ===
    diagnostics = {
        'M_total_kg': M_total, 'eta': eta, 'v_dimless_max': float(np.max(v_dimless)),
        'amp_scalar_max': float(np.max(amp_scalar)), 
        'VFE1_gamma_phase': gamma_phase,
        'CWT_term_max': float(np.max(phi_sdvr_term)),
    }

    strain = np.nan_to_num(strain, nan=0.0, posinf=0.0, neginf=0.0)
    phi_total = np.nan_to_num(phi_total, nan=0.0, posinf=0.0, neginf=0.0)

    return { 'time': t, 'strain': strain, 'phase': phi_total, 'diagnostics': diagnostics }

# --- DATA INGESTION SETUP (Same as previous step) ---
EVENT_ID = 'GW150914'
M_TOTAL = 65.6 
Q_RATIO = 0.8
CHI_EFF = 0.06
GPS_TIME = 1126259462.4
fs = 4096.0
duration = 4.0
time_vfe = np.linspace(GPS_TIME - 2.0, GPS_TIME + 2.0, int(duration * fs))
time_seconds = time_vfe - GPS_TIME

# Synthetic NR Frequency (REPLACE WITH REAL NR TEMPLATE DATA)
nr_frequency = np.linspace(35.0, 160.0, len(time_seconds))
nr_dt = time_seconds[1] - time_seconds[0]
nr_phase = 2 * np.pi * np.cumsum(nr_frequency) * nr_dt
nr_amplitude_envelope = np.linspace(0.15, 1.2, len(time_seconds)) * 1.5e-21
h_nr = nr_amplitude_envelope * np.cos(nr_phase)
input_frequency = nr_frequency

# VFE1 Solver Parameters (Tune A0 and gamma_phase_sdvr for fidelity)
vfe1_params = {
  'A0': 1.0,                    # Amplitude Scale
  'alpha_spin': 0.9,
  'beta_eta': 1.2,
  'gamma_phase_sdvr': 1.0e-6,   # CWT/SDVR Phase Coupling
  'damping_tau': 0.15
}

# --- 4. SDVR MAPPING & VFE1 EXECUTION (QCC) ---
print("QCC: Executing VFE1 Solver...")
vfe1_result = vfe1_solver(M_TOTAL, Q_RATIO, CHI_EFF, time_seconds, input_frequency, params=vfe1_params)
h_vfe1 = vfe1_result['strain']
phi_vfe1 = vfe1_result['phase']

print(f"VFE1 Diagnostics: {vfe1_result['diagnostics']}")

# --- 5. SIMULATION & COMPARISON (TTP-LLAL Analytics) ---

# 5.1 Phase Residual
phase_residual = (phi_vfe1 - nr_phase)
phase_residual = np.arctan2(np.sin(phase_residual), np.cos(phase_residual))
mean_abs_phase_residual = np.mean(np.abs(phase_residual))
RMSE_strain = np.sqrt(np.mean((h_vfe1 - h_nr)**2))

# 5.2 Mismatch (Overlap) Calculation (Required OVP-A Metric)
# Since we lack a true PSD model and FFT overlap, we use a simple noise-weighted correlation proxy:
# Overlap: (h1 | h2) / sqrt((h1 | h1)(h2 | h2)) where (h1 | h2) is the noise-weighted inner product.
# Here we use simple Euclidean normalization for speed and reproducibility.
overlap_proxy = np.sum(h_vfe1 * h_nr) / np.sqrt(np.sum(h_vfe1**2) * np.sum(h_nr**2))
mismatch_metric = 1.0 - overlap_proxy

print(f"\nANALYTICS: RMSE Strain Residual: {RMSE_strain:.2e}")
print(f"ANALYTICS: Mean Absolute Phase Residual: {mean_abs_phase_residual:.4f} radians")
print(f"ANALYTICS: Overlap Proxy (h_VFE1 | h_NR): {overlap_proxy:.6f}")
print(f"ANALYTICS: Mismatch Metric (1 - Overlap): {mismatch_metric:.6f}")


# --- 6. IMMUTABILITY LOGGING (SAVE ARTIFACTS) ---
# ... (logging to vfe1_output.json and README.md using the new metrics: RMSE, Mismatch)
output_data = {
    'EVENT_ID': EVENT_ID, 'DCP_FRAMEWORK_INPUTS': vfe1_params, 'TIME_ARRAY_SECONDS': time_seconds.tolist(),
    'H_VFE1_STRAIN': h_vfe1.tolist(), 'H_NR_STRAIN': h_nr.tolist(), 'PHASE_RESIDUAL_RADIANS': phase_residual.tolist(),
    'SUMMARY_METRICS': {'RMSE_strain': RMSE_strain, 'Mismatch_Metric': mismatch_metric, 'Mean_Abs_Phase_Residual': mean_abs_phase_residual}
}
json_path = os.path.join(OUTPUT_DIR, 'vfe1_output.json')
with open(json_path, 'w') as f: json.dump(output_data, f, indent=4)

readme_content = f"""# DCP Operational Validation Run: {RUN_NAME}

## Summary Results (TTP-LLAL Analytics)
* **Primary Metric (Mismatch):** {mismatch_metric:.6f} (Target: <0.1)
* **RMSE Strain Residual:** {RMSE_strain:.2e}
* **Mean Absolute Phase Residual:** {mean_abs_phase_residual:.4f} radians
* **Status:** Simulation artifacts created. Ready for Immutable Hash Anchor.

## Immutability Protocol Anchor (SHA-256)
* **[PLACEHOLDER: INSERT RUN HASH HERE AFTER COMMIT]**

... (rest of the README content)
"""
readme_path = os.path.join(OUTPUT_DIR, 'README.md')
with open(readme_path, 'w') as f:
    f.write(readme_content)
print("LOGGING: Artifacts saved. Notebook execution complete.")
